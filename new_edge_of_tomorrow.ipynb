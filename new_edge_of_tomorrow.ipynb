{
 "cells": [
  {
   "cell_type": "code",
   "execution_count": 3,
   "id": "e1a034c9-dd0e-449b-8a6a-2498437c8add",
   "metadata": {},
   "outputs": [],
   "source": [
    "# !pip install gradio ollama"
   ]
  },
  {
   "cell_type": "code",
   "execution_count": 4,
   "id": "e7702c0e-f4ae-4d5a-8309-edfc3968b0e9",
   "metadata": {},
   "outputs": [],
   "source": [
    "import gradio as gr\n",
    "import ollama\n",
    "import re"
   ]
  },
  {
   "cell_type": "code",
   "execution_count": 50,
   "id": "1f42e9f4-67b0-475d-8311-fbd72585dce0",
   "metadata": {},
   "outputs": [],
   "source": [
    "# 1. 게임 상태 초기화\n",
    "game_state = {\n",
    "    \"loop\": 0,\n",
    "    \"memory\": [],\n",
    "    \"correct_count\": 0,\n",
    "    \"max_correct\": 5,\n",
    "    \"game_over\": False,\n",
    "    \"started\": False  # ✅ 게임 시작 여부 체크 추가\n",
    "}\n",
    "\n",
    "def reset_game_state():\n",
    "    game_state[\"loop\"] = 0\n",
    "    game_state[\"memory\"].clear()\n",
    "    game_state[\"correct_count\"] = 0\n",
    "    game_state[\"game_over\"] = False\n",
    "    game_state[\"started\"] = False"
   ]
  },
  {
   "cell_type": "code",
   "execution_count": 55,
   "id": "683fed8b-2022-46ca-959b-45d632b13650",
   "metadata": {},
   "outputs": [],
   "source": [
    "# 2. 장면 생성 함수\n",
    "def generate_scene(memory, loop_count):\n",
    "    memory_text = \"\\n\".join([f\"- '{m[0]}' → {m[1]}\" for m in memory[-5:]]) if memory else \"기억 없음\"\n",
    "    system_prompt = \"\"\"\n",
    "당신은 영화 '엣지 오브 투모로우'의 빌 케이지 소령처럼 전장을 반복하는 병사입니다.\n",
    "규칙:\n",
    "- AI는 반드시 적의 현재 전쟁의 상황의 설명만 생성합니다.\n",
    "- 선택지는 간결하게 표현되어야 하며, 그 결과에 대한 유불리 정보를 포함하지 않습니다.\n",
    "- 선택지는 반드시 다음과 같은 3가지로 고정:\n",
    "선택지는 다음과 같습니다:\n",
    "1. 돌진한다\n",
    "2. 후퇴한다\n",
    "3. 지원을 요청한다\n",
    "\"\"\"\n",
    "    user_prompt = f\"\"\"[루프 {loop_count}회차]\n",
    "당신은 이전 루프에서 다음과 같은 행동을 했고, 그 결과를 모두 기억합니다:\n",
    "{memory_text}\n",
    "당신은 지금 어떤 상황에 처해 있으며, 어떤 전략적 판단이 필요한지 알려주세요.\"\"\"\n",
    "    response = ollama.chat(\n",
    "        model=\"EEVE-Korean-10.8B\",\n",
    "        messages=[\n",
    "            {\"role\": \"system\", \"content\": system_prompt},\n",
    "            {\"role\": \"user\", \"content\": user_prompt}\n",
    "        ]\n",
    "    )\n",
    "    return response['message']['content'].strip()"
   ]
  },
  {
   "cell_type": "code",
   "execution_count": 56,
   "id": "0aaa661c-b5fb-4a53-9754-a40524200f50",
   "metadata": {},
   "outputs": [],
   "source": [
    "# 3. 선택지 추출 함수\n",
    "def extract_choices_from_response(response):\n",
    "    pattern = r\"선택지는 다음과 같습니다:\\s*1\\.\\s*(.*?)\\s*2\\.\\s*(.*?)\\s*3\\.\\s*(.*?)\\s*$\"\n",
    "    match = re.search(pattern, response, re.DOTALL)\n",
    "    if not match:\n",
    "        return [\"돌진한다\", \"후퇴한다\", \"지원을 요청한다\"]\n",
    "    return [match.group(1).strip(), match.group(2).strip(), match.group(3).strip()]"
   ]
  },
  {
   "cell_type": "code",
   "execution_count": 57,
   "id": "5b6b0589-3830-4aa2-967e-fb010b1ac376",
   "metadata": {},
   "outputs": [],
   "source": [
    "# 4. 이벤트 처리 + 엔딩 체크\n",
    "import random  # ✅ 확률 처리용 모듈 추가\n",
    "\n",
    "def apply_event(choice, response):\n",
    "    if game_state[\"game_over\"]:\n",
    "        return \"🎉 게임은 이미 종료되었습니다. 새로 시작하려면 재실행하세요.\"\n",
    "\n",
    "    if any(word in response for word in [\"죽\", \"죽음\", \"사망\", \"전사\", \"폭발\", \"체력\", \"파괴\", \"관통\"]) or random.random() < 0.3:  # ✅ 30% 확률로 사망 처리 추가\n",
    "        game_state[\"memory\"].append((choice, \"죽음\"))\n",
    "        game_state[\"loop\"] = 1 if game_state[\"loop\"] == 0 else game_state[\"loop\"] + 1\n",
    "        return f\"☠️ 당신은 죽었습니다. 루프가 다시 시작됩니다.\"\n",
    "\n",
    "    game_state[\"memory\"].append((choice, \"생존\"))\n",
    "    game_state[\"correct_count\"] += 1\n",
    "    if game_state[\"correct_count\"] >= game_state[\"max_correct\"]:\n",
    "        game_state[\"game_over\"] = True\n",
    "        boss_prompt = f\"\"\"[루프 {game_state['loop']}회차 – 최종 기억 통합 완료]\n",
    "당신은 지금까지 {game_state['correct_count']}번의 올바른 선택을 통해 모든 기억을 되찾았습니다.\n",
    "이제 당신은 최종 보스와 마주하게 됩니다.\n",
    "\n",
    "보스는 엄청난 병력과 압도적인 화력으로 당신을 압박합니다.\n",
    "지금까지의 기억이 당신의 판단에 도움이 될 수 있습니다.\n",
    "\n",
    "최종 전투의 전황을 설명해 주세요. (선택지는 고정되어 있습니다)\n",
    "선택지는 다음과 같습니다:\n",
    "1. 돌진한다\n",
    "2. 후퇴한다\n",
    "3. 지원을 요청한다\n",
    "\"\"\"\n",
    "        # langchain api로 gemini api -> 플래시 뭐시기\n",
    "        boss_response = ollama.chat(\n",
    "            model=\"EEVE-Korean-10.8B\",\n",
    "            messages=[{\"role\": \"user\", \"content\": boss_prompt}]\n",
    "        )\n",
    "        boss_description = boss_response['message']['content'].strip()\n",
    "        boss_text = boss_description.split(\"선택지는 다음과 같습니다:\")[0].strip()\n",
    "\n",
    "        if random.random() < 0.4:\n",
    "            game_state[\"started\"] = False\n",
    "            return (\n",
    "                f\"{boss_text}\\n👑 당신은 최종 보스를 물리쳤습니다! 지옥 같은 전장을 끝냈습니다.\\n🎉 게임 클리어!\",\n",
    "                gr.update(choices=[], interactive=False),\n",
    "                gr.update(visible=False),\n",
    "                gr.update(visible=True)\n",
    "            )\n",
    "        else:\n",
    "            game_state[\"memory\"].append((\"보스전\", \"죽음\"))\n",
    "            game_state[\"loop\"] += 1\n",
    "            return (\n",
    "                f\"{boss_text}\\n☠️ 최종 전투에서 전사했습니다. 다시 반복됩니다.\",\n",
    "                gr.update(choices=[], interactive=False),\n",
    "                gr.update(visible=False),\n",
    "                gr.update(visible=True)\n",
    "            )\\n{boss_response['message']['content'].strip()}\"\n",
    "\n",
    "    game_state[\"loop\"] += 1\n",
    "    return f\"[루프 {game_state['loop']}회차 시작]\\n✅ 생존했습니다! (누적 생존 {game_state['correct_count']}회)\"  # ✅ 생존 시 기억 출력 제거\n"
   ]
  },
  {
   "cell_type": "code",
   "execution_count": 58,
   "id": "f2002881-0ecc-4db1-bc91-687545d3acb5",
   "metadata": {},
   "outputs": [
    {
     "name": "stdout",
     "output_type": "stream",
     "text": [
      "* Running on local URL:  http://127.0.0.1:7874\n",
      "* Running on public URL: https://2a57fd1de00696cb3b.gradio.live\n",
      "\n",
      "This share link expires in 1 week. For free permanent hosting and GPU upgrades, run `gradio deploy` from the terminal in the working directory to deploy to Hugging Face Spaces (https://huggingface.co/spaces)\n"
     ]
    },
    {
     "data": {
      "text/html": [
       "<div><iframe src=\"https://2a57fd1de00696cb3b.gradio.live\" width=\"100%\" height=\"500\" allow=\"autoplay; camera; microphone; clipboard-read; clipboard-write;\" frameborder=\"0\" allowfullscreen></iframe></div>"
      ],
      "text/plain": [
       "<IPython.core.display.HTML object>"
      ]
     },
     "metadata": {},
     "output_type": "display_data"
    }
   ],
   "source": [
    "# 5. Gradio 인터페이스\n",
    "with gr.Blocks() as demo:\n",
    "    with gr.Row():\n",
    "        output_box = gr.Textbox(label=\"🧠 전장의 상황\", lines=16, interactive=False)\n",
    "    with gr.Row():\n",
    "        choice_radio = gr.Radio(choices=[], label=\"무엇을 하시겠습니까?\", type=\"index\", interactive=True)\n",
    "    with gr.Row():\n",
    "        start_btn = gr.Button(\"🎮 게임 시작\")\n",
    "        submit_btn = gr.Button(\"결정!\", visible=False)\n",
    "        init_btn = gr.Button(\"🔄 게임 다시 시작하기\")\n",
    "\n",
    "    def show_intro():\n",
    "        reset_game_state()\n",
    "        intro_text = \"\"\"\n",
    "당신은 전쟁터에서 깨어났습니다. 먼 곳에서 포성이 들리고,\n",
    "먼지와 연기가 자욱한 하늘 아래에 처해 있습니다.\n",
    "첫 임무를 앞두고 상황을 파악해야 합니다.\n",
    "\"\"\"\n",
    "        return intro_text, gr.update(visible=True), gr.update(visible=False), gr.update(visible=False)\n",
    "\n",
    "    def on_start():\n",
    "        game_state[\"started\"] = True\n",
    "        first_response = generate_scene([], 0)\n",
    "        initial_choices = extract_choices_from_response(first_response)\n",
    "        description = first_response.split(\"선택지는 다음과 같습니다:\")[0].strip()\n",
    "        return description, gr.update(choices=initial_choices, value=None, interactive=True), gr.update(visible=True), gr.update(visible=False)\n",
    "\n",
    "    def on_decide(choice):\n",
    "        response = generate_scene(game_state[\"memory\"], game_state[\"loop\"])\n",
    "        choices = extract_choices_from_response(response)\n",
    "        result = apply_event(choices[choice], response)\n",
    "        description = response.split(\"선택지는 다음과 같습니다:\")[0].strip()\n",
    "\n",
    "        if game_state[\"game_over\"]:\n",
    "            return f\"{description}\\n{result}\", gr.update(choices=[\"🎉 게임 종료됨\"], interactive=False), gr.update(visible=False), gr.update(visible=True)\n",
    "\n",
    "        if \"☠️ 당신은 죽었습니다\" in result:\n",
    "            return result, gr.update(choices=[], interactive=False), gr.update(visible=False), gr.update(visible=True)\n",
    "\n",
    "        return f\"{description}\\n{result}\", gr.update(choices=choices, value=None), gr.update(visible=True), gr.update(visible=False)\n",
    "\n",
    "    start_btn.click(on_start, outputs=[output_box, choice_radio, submit_btn, start_btn])\n",
    "    submit_btn.click(on_decide, inputs=choice_radio, outputs=[output_box, choice_radio, submit_btn, start_btn])\n",
    "    init_btn.click(show_intro, outputs=[output_box, start_btn, submit_btn, init_btn])\n",
    "    \n",
    "    demo.load(show_intro, outputs=[output_box, start_btn, submit_btn, init_btn])\n",
    "    demo.launch(share=True)\n"
   ]
  },
  {
   "cell_type": "code",
   "execution_count": null,
   "id": "40e3a9e0-3f75-49e0-9604-90cd540006b9",
   "metadata": {},
   "outputs": [],
   "source": []
  }
 ],
 "metadata": {
  "kernelspec": {
   "display_name": "Python 3 (ipykernel)",
   "language": "python",
   "name": "python3"
  },
  "language_info": {
   "codemirror_mode": {
    "name": "ipython",
    "version": 3
   },
   "file_extension": ".py",
   "mimetype": "text/x-python",
   "name": "python",
   "nbconvert_exporter": "python",
   "pygments_lexer": "ipython3",
   "version": "3.10.12"
  }
 },
 "nbformat": 4,
 "nbformat_minor": 5
}
