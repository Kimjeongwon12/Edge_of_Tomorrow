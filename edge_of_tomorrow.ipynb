{
 "cells": [
  {
   "cell_type": "code",
   "execution_count": 108,
   "id": "e7702c0e-f4ae-4d5a-8309-edfc3968b0e9",
   "metadata": {},
   "outputs": [],
   "source": [
    "import gradio as gr\n",
    "import ollama\n",
    "import re"
   ]
  },
  {
   "cell_type": "code",
   "execution_count": 126,
   "id": "1f42e9f4-67b0-475d-8311-fbd72585dce0",
   "metadata": {},
   "outputs": [],
   "source": [
    "# 1. 게임 상태 초기화\n",
    "game_state = {\n",
    "    \"loop\": 0,\n",
    "    \"memory\": [],\n",
    "    \"correct_count\": 0,\n",
    "    \"max_correct\": 15,\n",
    "    \"game_over\": False\n",
    "}\n",
    "\n",
    "def reset_game_state():\n",
    "    game_state[\"loop\"] = 0\n",
    "    game_state[\"memory\"].clear()\n",
    "    game_state[\"correct_count\"] = 0\n",
    "    game_state[\"game_over\"] = False"
   ]
  },
  {
   "cell_type": "code",
   "execution_count": 127,
   "id": "683fed8b-2022-46ca-959b-45d632b13650",
   "metadata": {},
   "outputs": [],
   "source": [
    "# 2. 장면 생성 함수\n",
    "def generate_scene(memory, loop_count):\n",
    "    if loop_count == 0:\n",
    "        return \"당신은 전쟁터에서 깨어났습니다. 먼 곳에서 포성이 들리고, 먼지와 연기가 자욱한 하늘 아래에 처해 있습니다. 첫 임무를 앞두고 상황을 파악해야 합니다.\"\n",
    "\n",
    "    memory_text = \"\\n\".join([f\"- '{m[0]}' → {m[1]}\" for m in memory[-5:]]) if memory else \"기억 없음\"\n",
    "\n",
    "    system_prompt = \"\"\"\n",
    "당신은 영화 '엣지 오브 투모로우'처럼 전장을 반복하는 병사입니다.\n",
    "\n",
    "규칙:\n",
    "- AI는 적의 현재 전황과 상황 설명만 생성합니다.\n",
    "- 선택지는 간단한 명령어로 아래에 나열되며, 내용은 생략합니다.\n",
    "- 선택지는 반드시 다음 형식으로 끝내세요:\n",
    "선택지는 다음과 같습니다:\n",
    "1. 돌진한다\n",
    "2. 후퇴한다\n",
    "3. 지원을 요청한다\n",
    "\"\"\"\n",
    "\n",
    "    user_prompt = f\"\"\"[루프 {loop_count}회차]\n",
    "당신은 이전 루프에서 다음과 같은 행동을 했고, 그 결과를 모두 기억합니다:\n",
    "{memory_text}\n",
    "\n",
    "당신은 지금 어떤 상황에 처해 있으며, 어떤 전략적 판단이 필요한지 알려주세요.\n",
    "(선택지는 자동으로 추출되며 본문에는 포함하지 마세요)\"\"\"\n",
    "\n",
    "    response = ollama.chat(\n",
    "        model=\"EEVE-Korean-10.8B\",\n",
    "        messages=[\n",
    "            {\"role\": \"system\", \"content\": system_prompt},\n",
    "            {\"role\": \"user\", \"content\": user_prompt}\n",
    "        ]\n",
    "    )\n",
    "    return response['message']['content'].strip()\n"
   ]
  },
  {
   "cell_type": "code",
   "execution_count": 128,
   "id": "0aaa661c-b5fb-4a53-9754-a40524200f50",
   "metadata": {},
   "outputs": [],
   "source": [
    "# 3. 선택지 추출 함수 (간단한 선택지만)\n",
    "def extract_choices_from_response(response):\n",
    "    pattern = r\"선택지는 다음과 같습니다:\\s*1\\.\\s*(.*?)\\s*2\\.\\s*(.*?)\\s*3\\.\\s*(.*?)\\s*$\"\n",
    "    match = re.search(pattern, response, re.DOTALL)\n",
    "    if not match:\n",
    "        return [\"돌진한다\", \"후퇴한다\", \"지원 요청\"]\n",
    "    return [match.group(1).strip(), match.group(2).strip(), match.group(3).strip()]\n"
   ]
  },
  {
   "cell_type": "code",
   "execution_count": 129,
   "id": "5b6b0589-3830-4aa2-967e-fb010b1ac376",
   "metadata": {},
   "outputs": [],
   "source": [
    "# 4. 이벤트 처리 + 엔딩 체크\n",
    "def apply_event(choice, response):\n",
    "    if game_state[\"game_over\"]:\n",
    "        return \"🎉 게임은 이미 종료되었습니다. 새로 시작하려면 재실행하세요.\"\n",
    "\n",
    "    if any(word in response for word in [\"죽\", \"사망\", \"전사\", \"끝났습니다\"]):\n",
    "        game_state[\"memory\"].append((choice, \"죽음\"))\n",
    "        if game_state[\"loop\"] == 0:\n",
    "            game_state[\"loop\"] = 1\n",
    "        else:\n",
    "            game_state[\"loop\"] += 1\n",
    "        return f\"☠️ 당신은 죽었습니다. 루프가 다시 시작됩니다.\\n📜 기억: '{choice}' → 죽음\"\n",
    "\n",
    "    game_state[\"memory\"].append((choice, \"생존\"))\n",
    "    game_state[\"correct_count\"] += 1\n",
    "\n",
    "    if game_state[\"correct_count\"] >= game_state[\"max_correct\"]:\n",
    "        game_state[\"game_over\"] = True\n",
    "        boss_prompt = f\"\"\"\n",
    "[루프 {game_state['loop']}회차 – 최종 기억 통합 완료]\n",
    "당신은 지금까지 {game_state['correct_count']}번의 올바른 선택을 통해 모든 기억을 되찾았습니다.\n",
    "이제 최종 보스를 마주합니다. 어떻게 승리합니까?\n",
    "\"\"\"\n",
    "        boss_response = ollama.chat(\n",
    "            model=\"EEVE-Korean-10.8B\",\n",
    "            messages=[{\"role\": \"user\", \"content\": boss_prompt}]\n",
    "        )\n",
    "        return f\"👑 최종 보스 처치!\\n{boss_response['message']['content'].strip()}\"\n",
    "\n",
    "    game_state[\"loop\"] += 1\n",
    "    return f\"[루프 {game_state['loop']}회차 시작]\\n✅ 생존했습니다! (누적 생존 {game_state['correct_count']}회)\\n📜 기억: '{choice}' → 생존\"\n"
   ]
  },
  {
   "cell_type": "code",
   "execution_count": 130,
   "id": "f2002881-0ecc-4db1-bc91-687545d3acb5",
   "metadata": {},
   "outputs": [
    {
     "name": "stdout",
     "output_type": "stream",
     "text": [
      "* Running on local URL:  http://127.0.0.1:7888\n",
      "* Running on public URL: https://5595b64649b43c781d.gradio.live\n",
      "\n",
      "This share link expires in 1 week. For free permanent hosting and GPU upgrades, run `gradio deploy` from the terminal in the working directory to deploy to Hugging Face Spaces (https://huggingface.co/spaces)\n"
     ]
    },
    {
     "data": {
      "text/html": [
       "<div><iframe src=\"https://5595b64649b43c781d.gradio.live\" width=\"100%\" height=\"500\" allow=\"autoplay; camera; microphone; clipboard-read; clipboard-write;\" frameborder=\"0\" allowfullscreen></iframe></div>"
      ],
      "text/plain": [
       "<IPython.core.display.HTML object>"
      ]
     },
     "metadata": {},
     "output_type": "display_data"
    },
    {
     "name": "stderr",
     "output_type": "stream",
     "text": [
      "Traceback (most recent call last):\n",
      "  File \"/usr/local/lib/python3.10/dist-packages/gradio/queueing.py\", line 625, in process_events\n",
      "    response = await route_utils.call_process_api(\n",
      "  File \"/usr/local/lib/python3.10/dist-packages/gradio/route_utils.py\", line 322, in call_process_api\n",
      "    output = await app.get_blocks().process_api(\n",
      "  File \"/usr/local/lib/python3.10/dist-packages/gradio/blocks.py\", line 2136, in process_api\n",
      "    result = await self.call_function(\n",
      "  File \"/usr/local/lib/python3.10/dist-packages/gradio/blocks.py\", line 1662, in call_function\n",
      "    prediction = await anyio.to_thread.run_sync(  # type: ignore\n",
      "  File \"/usr/local/lib/python3.10/dist-packages/anyio/to_thread.py\", line 33, in run_sync\n",
      "    return await get_async_backend().run_sync_in_worker_thread(\n",
      "  File \"/usr/local/lib/python3.10/dist-packages/anyio/_backends/_asyncio.py\", line 2106, in run_sync_in_worker_thread\n",
      "    return await future\n",
      "  File \"/usr/local/lib/python3.10/dist-packages/anyio/_backends/_asyncio.py\", line 833, in run\n",
      "    result = context.run(func, *args)\n",
      "  File \"/usr/local/lib/python3.10/dist-packages/gradio/utils.py\", line 884, in wrapper\n",
      "    response = f(*args, **kwargs)\n",
      "  File \"/tmp/ipykernel_2912/72282823.py\", line 11, in on_decide\n",
      "    result = apply_event(choices[choice], response)\n",
      "TypeError: list indices must be integers or slices, not NoneType\n"
     ]
    }
   ],
   "source": [
    "# 5. Gradio 인터페이스\n",
    "with gr.Blocks() as demo:\n",
    "    output_box = gr.Textbox(label=\"🧠 전장의 상황\", lines=16, interactive=False)\n",
    "    choice_radio = gr.Radio(choices=[], label=\"무엇을 하시겠습니까?\", type=\"index\", interactive=True)\n",
    "    submit_btn = gr.Button(\"결정!\")\n",
    "    init_btn = gr.Button(\"🔄 게임 다시 시작하기\")\n",
    "\n",
    "    def on_decide(choice):\n",
    "        response = generate_scene(game_state[\"memory\"], game_state[\"loop\"])\n",
    "        choices = extract_choices_from_response(response)\n",
    "        result = apply_event(choices[choice], response)\n",
    "\n",
    "        if game_state[\"game_over\"]:\n",
    "            return f\"{response}\\n\\n{result}\", gr.update(choices=[\"🎉 게임 종료됨\"], interactive=False)\n",
    "\n",
    "        description = response.split(\"선택지는 다음과 같습니다:\")[0].strip()  # ✅ 선택지는 제외하고 상황만 출력\n",
    "        return f\"{description}\\n\\n{result}\", gr.update(choices=choices, value=None)\n",
    "\n",
    "    def initialize():\n",
    "        reset_game_state()\n",
    "        first_response = generate_scene([], 0)\n",
    "        initial_choices = extract_choices_from_response(first_response)\n",
    "        description = first_response.split(\"선택지는 다음과 같습니다:\")[0].strip()\n",
    "        return description, gr.update(choices=initial_choices, value=None, interactive=True)\n",
    "\n",
    "    init_btn.click(initialize, inputs=[], outputs=[output_box, choice_radio])\n",
    "    submit_btn.click(on_decide, inputs=choice_radio, outputs=[output_box, choice_radio])\n",
    "\n",
    "    demo.launch(share=True)"
   ]
  },
  {
   "cell_type": "code",
   "execution_count": null,
   "id": "40e3a9e0-3f75-49e0-9604-90cd540006b9",
   "metadata": {},
   "outputs": [],
   "source": []
  }
 ],
 "metadata": {
  "kernelspec": {
   "display_name": "Python 3 (ipykernel)",
   "language": "python",
   "name": "python3"
  },
  "language_info": {
   "codemirror_mode": {
    "name": "ipython",
    "version": 3
   },
   "file_extension": ".py",
   "mimetype": "text/x-python",
   "name": "python",
   "nbconvert_exporter": "python",
   "pygments_lexer": "ipython3",
   "version": "3.10.12"
  }
 },
 "nbformat": 4,
 "nbformat_minor": 5
}
