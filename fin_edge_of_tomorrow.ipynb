{
 "cells": [
  {
   "cell_type": "code",
   "execution_count": 14,
   "id": "7f10863b-b0af-4623-baf1-d4008d6c2652",
   "metadata": {},
   "outputs": [],
   "source": [
    "import gradio as gr\n",
    "import time\n",
    "import ollama"
   ]
  },
  {
   "cell_type": "code",
   "execution_count": 23,
   "id": "770ae5c9-7f70-4910-a0a1-c8e3a55755fc",
   "metadata": {},
   "outputs": [],
   "source": [
    "# 1. 고정된 장면 설정\n",
    "scenes = [\n",
    "    (\"헬리콥터가 격추된 뒤 해변에 추락했습니다. 포탄이 빗발치는 속에서 첫 전투를 준비해야 합니다.\",\n",
    "     \"기계 생명체들은 엄폐물이 없는 해변을 초토화하고 있습니다. 빠르게 은폐처를 찾아야 하며, 무분별한 돌진은 즉사로 이어질 수 있습니다.\"),\n",
    "    (\"기계 생명체들이 매복해 있던 참호에 도착했습니다. 팀원들은 혼란에 빠져 사방으로 흩어졌습니다.\",\n",
    "     \"참호를 따라 빠르게 이동하거나, 근접한 기계 생명체를 정밀 사격해 제거해야 합니다. 무턱대고 머물면 포위될 위험이 큽니다.\"),\n",
    "    (\"상관이 전사하고, 지휘 체계는 완전히 붕괴되었습니다. 이제 당신 혼자입니다.\",\n",
    "     \"통신 장비를 복구해 지원을 요청하거나, 적 경로를 피해 은밀하게 이동해야 합니다. 무작정 교전하면 압도적인 수에 휩쓸립니다.\"),\n",
    "    (\"주요 공격 목표였던 적 통신탑이 완전히 점령당했습니다. 지원군도 오지 않고 있습니다.\",\n",
    "     \"통신탑의 방어 드론을 우회하거나 교란 장치를 설치해야 합니다. 정면 돌파는 실패 확률이 매우 높습니다.\"),\n",
    "    (\"최종 본진에 도착했습니다. 알파 개체, 적 지휘 핵심이 모습을 드러냈습니다.\",\n",
    "     \"알파 개체는 직접 공격으로는 쓰러지지 않습니다. 주의를 끌어 시간을 벌거나 약점을 찾아야 합니다. 무력 돌파는 자살행위입니다.\")\n",
    "]"
   ]
  },
  {
   "cell_type": "code",
   "execution_count": 24,
   "id": "d36503fa-147b-48fa-9fc9-7115d4926157",
   "metadata": {},
   "outputs": [],
   "source": [
    "# 게임 상태 초기화\n",
    "game_state = {\n",
    "    \"scene\": 0,\n",
    "    \"memory\": [],\n",
    "    \"loop\": 0,\n",
    "    \"game_over\": False\n",
    "}\n",
    "\n",
    "def reset_game_state():\n",
    "    game_state[\"scene\"] = 0\n",
    "    game_state[\"memory\"].clear()\n",
    "    game_state[\"loop\"] = 0\n",
    "    game_state[\"game_over\"] = False"
   ]
  },
  {
   "cell_type": "code",
   "execution_count": 25,
   "id": "a19da07b-d885-49e1-96ef-73de5e4a1701",
   "metadata": {},
   "outputs": [],
   "source": [
    "# 현재 장면 출력 + 생존/사망 판정 함\n",
    "def get_current_scene():\n",
    "    if game_state[\"scene\"] < len(scenes):\n",
    "        main_text, sub_text = scenes[game_state[\"scene\"]]\n",
    "        return f\"{main_text}\\n{sub_text}\"\n",
    "    else:\n",
    "        boss_main = \"거대한 오메가 기계가 모습을 드러냈습니다. 붉게 빛나는 촉수들이 전장을 뒤덮고, 모든 공격이 당신을 향하고 있습니다.\"\n",
    "        boss_sub = \"시간이 없습니다. 몇 초 안에 움직이지 않으면 전장이 그대로 얼어붙을 것입니다. 마지막 결단을 내려야 합니다.\"\n",
    "        return f\"{boss_main}\\n{boss_sub}\"\n",
    "\n",
    "def ask_ollama_for_survival(scene_text, user_action):\n",
    "    system_prompt = \"\"\"\n",
    "당신은 Edge of Tomorrow 전장의 상황을 기반으로 플레이어의 행동이 생존으로 이어질지 사망으로 이어질지 판정하는 AI입니다.\n",
    "응답은 반드시 \"생존\" 또는 \"사망\" 한 단어로만 답하세요.\n",
    "\"\"\"\n",
    "    user_prompt = f\"상황: {scene_text}\\n플레이어의 행동: {user_action}\\n이 행동은 생존입니까, 사망입니까?\"\n",
    "\n",
    "    response = ollama.chat(\n",
    "        model=\"EEVE-Korean-10.8B\",\n",
    "        messages=[\n",
    "            {\"role\": \"system\", \"content\": system_prompt},\n",
    "            {\"role\": \"user\", \"content\": user_prompt}\n",
    "        ]\n",
    "    )\n",
    "    return response['message']['content'].strip()\n"
   ]
  },
  {
   "cell_type": "code",
   "execution_count": 26,
   "id": "9951e383-b488-41d2-b44c-a12b0bfc1934",
   "metadata": {},
   "outputs": [],
   "source": [
    "# 행동 처리 함\n",
    "def process_input(user_input):\n",
    "    if game_state[\"game_over\"]:\n",
    "        return \"🎉 게임이 종료되었습니다. 다시 시작하려면 초기화 버튼을 누르세요.\"\n",
    "\n",
    "    current_scene_text = get_current_scene()\n",
    "\n",
    "    if game_state[\"scene\"] >= len(scenes):\n",
    "        boss_scene_text = get_current_scene()\n",
    "        survival_result = ask_ollama_for_survival(boss_scene_text, user_input)\n",
    "        if survival_result == \"생존\":\n",
    "            game_state[\"game_over\"] = True\n",
    "            return \"👑 당신은 오메가를 쓰러뜨리고 인류를 구했습니다! 전장을 정복했습니다. 🎉\"\n",
    "        else:\n",
    "            game_state[\"loop\"] += 1\n",
    "            game_state[\"scene\"] = 0\n",
    "            game_state[\"memory\"].append((\"보스전\", \"죽음\"))\n",
    "            return \"☠️ 오메가에게 패배했습니다. 루프가 다시 시작됩니다.\"\n",
    "\n",
    "    survival_result = ask_ollama_for_survival(current_scene_text, user_input)\n",
    "\n",
    "    if survival_result == \"생존\":\n",
    "        game_state[\"scene\"] += 1\n",
    "        return \"✅ 안전하게 다음 장면으로 넘어갑니다!\"\n",
    "    else:\n",
    "        game_state[\"loop\"] += 1\n",
    "        game_state[\"scene\"] = 0\n",
    "        game_state[\"memory\"].append((user_input, \"죽음\"))\n",
    "        return \"☠️ 행동 실패로 사망했습니다. 루프가 다시 시작됩니다.\"\n"
   ]
  },
  {
   "cell_type": "code",
   "execution_count": 27,
   "id": "ba0601f7-9574-433d-841e-b42313d1c6a8",
   "metadata": {},
   "outputs": [],
   "source": [
    "with gr.Blocks() as demo:\n",
    "    # ⬇️ Fade-out CSS를 삽입하는 숨은 HTML 컴포넌트\n",
    "    gr.HTML('''\n",
    "    <style>\n",
    "    @keyframes fadeOut {\n",
    "        from {opacity: 1;}\n",
    "        to {opacity: 0;}\n",
    "    }\n",
    "    #result {\n",
    "        animation: fadeOut 1s ease-out 1s forwards;\n",
    "    }\n",
    "    </style>\n",
    "    ''')\n",
    "\n",
    "    with gr.Row():\n",
    "        output_box = gr.Textbox(label=\"🧠 전장의 상황\", lines=6, interactive=False)\n",
    "    with gr.Row():\n",
    "        result_box = gr.HTML(label=\"🎯 결과\")\n",
    "    with gr.Row():\n",
    "        user_input = gr.Textbox(label=\"당신의 행동을 입력하세요\")\n",
    "    with gr.Row():\n",
    "        submit_btn = gr.Button(\"결정!\")\n",
    "        reset_btn = gr.Button(\"🔄 게임 다시 시작하기\")\n",
    "\n",
    "    def on_submit(input_text):\n",
    "        scene_description = get_current_scene()\n",
    "        result = process_input(input_text)\n",
    "        \n",
    "        html_result = f'''\n",
    "        <div id=\"result\" style=\"font-size:20px;\">\n",
    "            {result}\n",
    "        </div>\n",
    "        '''\n",
    "        return scene_description, html_result\n",
    "\n",
    "    def on_reset():\n",
    "        reset_game_state()\n",
    "        return get_current_scene(), \"\"\n",
    "\n",
    "    submit_btn.click(on_submit, inputs=[user_input], outputs=[output_box, result_box])\n",
    "    reset_btn.click(on_reset, outputs=[output_box, result_box])\n",
    "\n",
    "    demo.load(on_reset, outputs=[output_box, result_box])"
   ]
  },
  {
   "cell_type": "code",
   "execution_count": 28,
   "id": "e6838a02-83e4-43d9-a116-75f48631a7d5",
   "metadata": {},
   "outputs": [
    {
     "name": "stdout",
     "output_type": "stream",
     "text": [
      "* Running on local URL:  http://127.0.0.1:7868\n",
      "* Running on public URL: https://3c6c0620ff85384720.gradio.live\n",
      "\n",
      "This share link expires in 1 week. For free permanent hosting and GPU upgrades, run `gradio deploy` from the terminal in the working directory to deploy to Hugging Face Spaces (https://huggingface.co/spaces)\n"
     ]
    },
    {
     "data": {
      "text/html": [
       "<div><iframe src=\"https://3c6c0620ff85384720.gradio.live\" width=\"100%\" height=\"500\" allow=\"autoplay; camera; microphone; clipboard-read; clipboard-write;\" frameborder=\"0\" allowfullscreen></iframe></div>"
      ],
      "text/plain": [
       "<IPython.core.display.HTML object>"
      ]
     },
     "metadata": {},
     "output_type": "display_data"
    },
    {
     "data": {
      "text/plain": []
     },
     "execution_count": 28,
     "metadata": {},
     "output_type": "execute_result"
    }
   ],
   "source": [
    "demo.launch(share=True)"
   ]
  },
  {
   "cell_type": "code",
   "execution_count": null,
   "id": "068d9db3-58b3-42df-8d6c-441d8979272d",
   "metadata": {},
   "outputs": [],
   "source": []
  }
 ],
 "metadata": {
  "kernelspec": {
   "display_name": "Python 3 (ipykernel)",
   "language": "python",
   "name": "python3"
  },
  "language_info": {
   "codemirror_mode": {
    "name": "ipython",
    "version": 3
   },
   "file_extension": ".py",
   "mimetype": "text/x-python",
   "name": "python",
   "nbconvert_exporter": "python",
   "pygments_lexer": "ipython3",
   "version": "3.10.12"
  }
 },
 "nbformat": 4,
 "nbformat_minor": 5
}
